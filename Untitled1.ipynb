{
 "cells": [
  {
   "cell_type": "code",
   "execution_count": 1,
   "id": "9a1674d6",
   "metadata": {},
   "outputs": [
    {
     "ename": "SyntaxError",
     "evalue": "invalid syntax (2256277282.py, line 9)",
     "output_type": "error",
     "traceback": [
      "\u001b[0;36m  Cell \u001b[0;32mIn[1], line 9\u001b[0;36m\u001b[0m\n\u001b[0;31m    cap = cv2.VideoCapture(/home/kali/Downloads/greenscreen.mp4)\u001b[0m\n\u001b[0m                           ^\u001b[0m\n\u001b[0;31mSyntaxError\u001b[0m\u001b[0;31m:\u001b[0m invalid syntax\n"
     ]
    }
   ],
   "source": [
    "import cv2\n",
    "import numpy as np\n",
    "\n",
    "\n",
    "lower_bound = np.array([35, 50, 50])  \n",
    "upper_bound = np.array([85, 255, 255])  \n",
    "\n",
    "\n",
    "cap = cv2.VideoCapture(/home/kali/Downloads/greenscreen.mp4)\n",
    "\n",
    "\n",
    "if not cap.isOpened():\n",
    "    print(\"Error: Could not open video stream.\")\n",
    "    exit()\n",
    "\n",
    "\n",
    "fourcc = cv2.VideoWriter_fourcc(*'XVID')\n",
    "out = cv2.VideoWriter('output_invisibility_cloak.avi', fourcc, 20.0, (640, 480))\n",
    "\n",
    "while cap.isOpened():\n",
    "    ret, frame = cap.read()\n",
    "    if not ret:\n",
    "        break\n",
    "\n",
    "    \n",
    "    hsv = cv2.cvtColor(frame, cv2.COLOR_BGR2HSV)\n",
    "\n",
    "\n",
    "    mask = cv2.inRange(hsv, lower_bound, upper_bound)\n",
    "\n",
    "    \n",
    "    mask_inv = cv2.bitwise_not(mask)\n",
    "\n",
    "\n",
    "    background = cv2.bitwise_and(frame, frame, mask=mask_inv)\n",
    "    foreground = cv2.bitwise_and(frame, frame, mask=mask)\n",
    "\n",
    "   \n",
    "    result = cv2.add(background, foreground)\n",
    "\n",
    "   \n",
    "    cv2.imshow(\"Invisibility Cloak\", result)\n",
    "\n",
    "    \n",
    "    out.write(result)\n",
    "\n",
    "    \n",
    "    if cv2.waitKey(1) & 0xFF == ord('q'):\n",
    "        break\n",
    "\n",
    "\n",
    "cap.release()\n",
    "out.release()\n",
    "cv2.destroyAllWindows()\n"
   ]
  }
 ],
 "metadata": {
  "kernelspec": {
   "display_name": "Python 3 (ipykernel)",
   "language": "python",
   "name": "python3"
  },
  "language_info": {
   "codemirror_mode": {
    "name": "ipython",
    "version": 3
   },
   "file_extension": ".py",
   "mimetype": "text/x-python",
   "name": "python",
   "nbconvert_exporter": "python",
   "pygments_lexer": "ipython3",
   "version": "3.12.8"
  }
 },
 "nbformat": 4,
 "nbformat_minor": 5
}
